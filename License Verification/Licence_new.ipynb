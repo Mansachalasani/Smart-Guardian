{
  "nbformat": 4,
  "nbformat_minor": 0,
  "metadata": {
    "colab": {
      "provenance": []
    },
    "kernelspec": {
      "name": "python3",
      "display_name": "Python 3"
    },
    "language_info": {
      "name": "python"
    }
  },
  "cells": [
    {
      "cell_type": "markdown",
      "metadata": {
        "id": "Eh46QsAAmbcV"
      },
      "source": [
        "#Licence Validation"
      ]
    },
    {
      "cell_type": "code",
      "execution_count": null,
      "metadata": {
        "id": "MzYAlrsQamZ4"
      },
      "outputs": [],
      "source": [
        "# import dependencies\n",
        "from IPython.display import display, Javascript, Image\n",
        "from google.colab.output import eval_js\n",
        "from base64 import b64decode, b64encode\n",
        "import cv2\n",
        "import numpy as np\n",
        "import PIL\n",
        "import io\n",
        "import html\n",
        "import time"
      ]
    },
    {
      "cell_type": "code",
      "execution_count": null,
      "metadata": {
        "id": "UcBAfCIHanYX"
      },
      "outputs": [],
      "source": [
        "# function to convert the JavaScript object into an OpenCV image\n",
        "def js_to_image(js_reply):\n",
        "  \"\"\"\n",
        "  Params:\n",
        "          js_reply: JavaScript object containing image from webcam\n",
        "  Returns:\n",
        "          img: OpenCV BGR image\n",
        "  \"\"\"\n",
        "  # decode base64 image\n",
        "  image_bytes = b64decode(js_reply.split(',')[1])\n",
        "  # convert bytes to numpy array\n",
        "  jpg_as_np = np.frombuffer(image_bytes, dtype=np.uint8)\n",
        "  # decode numpy array into OpenCV BGR image\n",
        "  img = cv2.imdecode(jpg_as_np, flags=1)\n",
        "\n",
        "  return img\n",
        "\n",
        "# function to convert OpenCV Rectangle bounding box image into base64 byte string to be overlayed on video stream\n",
        "def bbox_to_bytes(bbox_array):\n",
        "  \"\"\"\n",
        "  Params:\n",
        "          bbox_array: Numpy array (pixels) containing rectangle to overlay on video stream.\n",
        "  Returns:\n",
        "        bytes: Base64 image byte string\n",
        "  \"\"\"\n",
        "  # convert array into PIL image\n",
        "  bbox_PIL = PIL.Image.fromarray(bbox_array, 'RGBA')\n",
        "  iobuf = io.BytesIO()\n",
        "  # format bbox into png for return\n",
        "  bbox_PIL.save(iobuf, format='png')\n",
        "  # format return string\n",
        "  bbox_bytes = 'data:image/png;base64,{}'.format((str(b64encode(iobuf.getvalue()), 'utf-8')))\n",
        "\n",
        "  return bbox_bytes"
      ]
    },
    {
      "cell_type": "code",
      "execution_count": null,
      "metadata": {
        "id": "5WqVyZVrafK5"
      },
      "outputs": [],
      "source": [
        "face_cascade = cv2.CascadeClassifier(cv2.samples.findFile(cv2.data.haarcascades + 'haarcascade_frontalface_default.xml'))"
      ]
    },
    {
      "cell_type": "code",
      "execution_count": null,
      "metadata": {
        "id": "uGwyG_6iZJZg"
      },
      "outputs": [],
      "source": [
        "def take_photo(filename='photo.jpg', quality=0.8):\n",
        "  js = Javascript('''\n",
        "    async function takePhoto(quality) {\n",
        "      const div = document.createElement('div');\n",
        "      const capture = document.createElement('button');\n",
        "      capture.textContent = 'Capture';\n",
        "      div.appendChild(capture);\n",
        "\n",
        "      const video = document.createElement('video');\n",
        "      video.style.display = 'block';\n",
        "      const stream = await navigator.mediaDevices.getUserMedia({video: true});\n",
        "\n",
        "      document.body.appendChild(div);\n",
        "      div.appendChild(video);\n",
        "      video.srcObject = stream;\n",
        "      await video.play();\n",
        "\n",
        "      // Resize the output to fit the video element.\n",
        "      google.colab.output.setIframeHeight(document.documentElement.scrollHeight, true);\n",
        "\n",
        "      // Wait for Capture to be clicked.\n",
        "      await new Promise((resolve) => capture.onclick = resolve);\n",
        "\n",
        "      const canvas = document.createElement('canvas');\n",
        "      canvas.width = video.videoWidth;\n",
        "      canvas.height = video.videoHeight;\n",
        "      canvas.getContext('2d').drawImage(video, 0, 0);\n",
        "      stream.getVideoTracks()[0].stop();\n",
        "      div.remove();\n",
        "      return canvas.toDataURL('image/jpeg', quality);\n",
        "    }\n",
        "    ''')\n",
        "  display(js)\n",
        "\n",
        "  # get photo data\n",
        "  data = eval_js('takePhoto({})'.format(quality))\n",
        "  # get OpenCV format image\n",
        "  img = js_to_image(data)\n",
        "  # grayscale img\n",
        "  gray = cv2.cvtColor(img, cv2.COLOR_RGB2GRAY)\n",
        "  print(gray.shape)\n",
        "  # get face bounding box coordinates using Haar Cascade\n",
        "  faces = face_cascade.detectMultiScale(gray)\n",
        "  # draw face bounding box on image\n",
        "#   for (x,y,w,h) in faces:\n",
        "#       img = cv2.rectangle(img,(x-50,y-50),(x+w+70,y+h+50),(255,0,0),2)\n",
        "#   # save image\n",
        "  cv2.imwrite(filename, img)\n",
        "\n",
        "  return filename"
      ]
    },
    {
      "cell_type": "code",
      "execution_count": null,
      "metadata": {
        "id": "xIxsR603ZQ5_"
      },
      "outputs": [],
      "source": [
        "try:\n",
        "  filename = take_photo('snapshot.jpg')\n",
        "  print('Saved to {}'.format(filename))\n",
        "\n",
        "  # Show the image which was just taken.\n",
        "  display(Image(filename))\n",
        "except Exception as err:\n",
        "  # Errors will be thrown if the user does not have a webcam or if they do not\n",
        "  # grant the page permission to access it.\n",
        "  print(str(err))"
      ]
    },
    {
      "cell_type": "code",
      "execution_count": null,
      "metadata": {
        "id": "xqZcriD68qKJ",
        "colab": {
          "base_uri": "https://localhost:8080/"
        },
        "outputId": "b4c297ea-bed3-43fb-fe2f-8cd1650ea62e"
      },
      "outputs": [
        {
          "output_type": "stream",
          "name": "stdout",
          "text": [
            "Collecting gtts\n",
            "  Downloading gTTS-2.3.2-py3-none-any.whl (28 kB)\n",
            "Requirement already satisfied: requests<3,>=2.27 in /usr/local/lib/python3.10/dist-packages (from gtts) (2.27.1)\n",
            "Requirement already satisfied: click<8.2,>=7.1 in /usr/local/lib/python3.10/dist-packages (from gtts) (8.1.3)\n",
            "Requirement already satisfied: urllib3<1.27,>=1.21.1 in /usr/local/lib/python3.10/dist-packages (from requests<3,>=2.27->gtts) (1.26.16)\n",
            "Requirement already satisfied: certifi>=2017.4.17 in /usr/local/lib/python3.10/dist-packages (from requests<3,>=2.27->gtts) (2023.5.7)\n",
            "Requirement already satisfied: charset-normalizer~=2.0.0 in /usr/local/lib/python3.10/dist-packages (from requests<3,>=2.27->gtts) (2.0.12)\n",
            "Requirement already satisfied: idna<4,>=2.5 in /usr/local/lib/python3.10/dist-packages (from requests<3,>=2.27->gtts) (3.4)\n",
            "Installing collected packages: gtts\n",
            "Successfully installed gtts-2.3.2\n"
          ]
        }
      ],
      "source": [
        "# !pip install gtts"
      ]
    },
    {
      "cell_type": "code",
      "execution_count": null,
      "metadata": {
        "colab": {
          "base_uri": "https://localhost:8080/"
        },
        "id": "wapj2L8uEB4x",
        "outputId": "09eb9d7c-7e53-4c3b-a872-9e6a86b201d8"
      },
      "outputs": [
        {
          "output_type": "stream",
          "name": "stdout",
          "text": [
            "Collecting easyocr\n",
            "  Downloading easyocr-1.7.0-py3-none-any.whl (2.9 MB)\n",
            "\u001b[?25l     \u001b[90m━━━━━━━━━━━━━━━━━━━━━━━━━━━━━━━━━━━━━━━━\u001b[0m \u001b[32m0.0/2.9 MB\u001b[0m \u001b[31m?\u001b[0m eta \u001b[36m-:--:--\u001b[0m\r\u001b[2K     \u001b[91m━━\u001b[0m\u001b[91m╸\u001b[0m\u001b[90m━━━━━━━━━━━━━━━━━━━━━━━━━━━━━━━━━━━━━\u001b[0m \u001b[32m0.2/2.9 MB\u001b[0m \u001b[31m5.6 MB/s\u001b[0m eta \u001b[36m0:00:01\u001b[0m\r\u001b[2K     \u001b[91m━━━━━━━━━━━━━━━━━━━━━\u001b[0m\u001b[91m╸\u001b[0m\u001b[90m━━━━━━━━━━━━━━━━━━\u001b[0m \u001b[32m1.6/2.9 MB\u001b[0m \u001b[31m22.6 MB/s\u001b[0m eta \u001b[36m0:00:01\u001b[0m\r\u001b[2K     \u001b[90m━━━━━━━━━━━━━━━━━━━━━━━━━━━━━━━━━━━━━━━━\u001b[0m \u001b[32m2.9/2.9 MB\u001b[0m \u001b[31m28.1 MB/s\u001b[0m eta \u001b[36m0:00:00\u001b[0m\n",
            "\u001b[?25hRequirement already satisfied: torch in /usr/local/lib/python3.10/dist-packages (from easyocr) (2.0.1+cu118)\n",
            "Requirement already satisfied: torchvision>=0.5 in /usr/local/lib/python3.10/dist-packages (from easyocr) (0.15.2+cu118)\n",
            "Requirement already satisfied: opencv-python-headless in /usr/local/lib/python3.10/dist-packages (from easyocr) (4.7.0.72)\n",
            "Requirement already satisfied: scipy in /usr/local/lib/python3.10/dist-packages (from easyocr) (1.10.1)\n",
            "Requirement already satisfied: numpy in /usr/local/lib/python3.10/dist-packages (from easyocr) (1.22.4)\n",
            "Requirement already satisfied: Pillow in /usr/local/lib/python3.10/dist-packages (from easyocr) (8.4.0)\n",
            "Requirement already satisfied: scikit-image in /usr/local/lib/python3.10/dist-packages (from easyocr) (0.19.3)\n",
            "Collecting python-bidi (from easyocr)\n",
            "  Downloading python_bidi-0.4.2-py2.py3-none-any.whl (30 kB)\n",
            "Requirement already satisfied: PyYAML in /usr/local/lib/python3.10/dist-packages (from easyocr) (6.0)\n",
            "Requirement already satisfied: Shapely in /usr/local/lib/python3.10/dist-packages (from easyocr) (2.0.1)\n",
            "Collecting pyclipper (from easyocr)\n",
            "  Downloading pyclipper-1.3.0.post4-cp310-cp310-manylinux_2_12_x86_64.manylinux2010_x86_64.whl (813 kB)\n",
            "\u001b[2K     \u001b[90m━━━━━━━━━━━━━━━━━━━━━━━━━━━━━━━━━━━━━━\u001b[0m \u001b[32m813.9/813.9 kB\u001b[0m \u001b[31m44.7 MB/s\u001b[0m eta \u001b[36m0:00:00\u001b[0m\n",
            "\u001b[?25hCollecting ninja (from easyocr)\n",
            "  Downloading ninja-1.11.1-py2.py3-none-manylinux_2_12_x86_64.manylinux2010_x86_64.whl (145 kB)\n",
            "\u001b[2K     \u001b[90m━━━━━━━━━━━━━━━━━━━━━━━━━━━━━━━━━━━━━━\u001b[0m \u001b[32m146.0/146.0 kB\u001b[0m \u001b[31m15.7 MB/s\u001b[0m eta \u001b[36m0:00:00\u001b[0m\n",
            "\u001b[?25hRequirement already satisfied: requests in /usr/local/lib/python3.10/dist-packages (from torchvision>=0.5->easyocr) (2.27.1)\n",
            "Requirement already satisfied: filelock in /usr/local/lib/python3.10/dist-packages (from torch->easyocr) (3.12.2)\n",
            "Requirement already satisfied: typing-extensions in /usr/local/lib/python3.10/dist-packages (from torch->easyocr) (4.6.3)\n",
            "Requirement already satisfied: sympy in /usr/local/lib/python3.10/dist-packages (from torch->easyocr) (1.11.1)\n",
            "Requirement already satisfied: networkx in /usr/local/lib/python3.10/dist-packages (from torch->easyocr) (3.1)\n",
            "Requirement already satisfied: jinja2 in /usr/local/lib/python3.10/dist-packages (from torch->easyocr) (3.1.2)\n",
            "Requirement already satisfied: triton==2.0.0 in /usr/local/lib/python3.10/dist-packages (from torch->easyocr) (2.0.0)\n",
            "Requirement already satisfied: cmake in /usr/local/lib/python3.10/dist-packages (from triton==2.0.0->torch->easyocr) (3.25.2)\n",
            "Requirement already satisfied: lit in /usr/local/lib/python3.10/dist-packages (from triton==2.0.0->torch->easyocr) (16.0.6)\n",
            "Requirement already satisfied: six in /usr/local/lib/python3.10/dist-packages (from python-bidi->easyocr) (1.16.0)\n",
            "Requirement already satisfied: imageio>=2.4.1 in /usr/local/lib/python3.10/dist-packages (from scikit-image->easyocr) (2.25.1)\n",
            "Requirement already satisfied: tifffile>=2019.7.26 in /usr/local/lib/python3.10/dist-packages (from scikit-image->easyocr) (2023.4.12)\n",
            "Requirement already satisfied: PyWavelets>=1.1.1 in /usr/local/lib/python3.10/dist-packages (from scikit-image->easyocr) (1.4.1)\n",
            "Requirement already satisfied: packaging>=20.0 in /usr/local/lib/python3.10/dist-packages (from scikit-image->easyocr) (23.1)\n",
            "Requirement already satisfied: MarkupSafe>=2.0 in /usr/local/lib/python3.10/dist-packages (from jinja2->torch->easyocr) (2.1.3)\n",
            "Requirement already satisfied: urllib3<1.27,>=1.21.1 in /usr/local/lib/python3.10/dist-packages (from requests->torchvision>=0.5->easyocr) (1.26.16)\n",
            "Requirement already satisfied: certifi>=2017.4.17 in /usr/local/lib/python3.10/dist-packages (from requests->torchvision>=0.5->easyocr) (2023.5.7)\n",
            "Requirement already satisfied: charset-normalizer~=2.0.0 in /usr/local/lib/python3.10/dist-packages (from requests->torchvision>=0.5->easyocr) (2.0.12)\n",
            "Requirement already satisfied: idna<4,>=2.5 in /usr/local/lib/python3.10/dist-packages (from requests->torchvision>=0.5->easyocr) (3.4)\n",
            "Requirement already satisfied: mpmath>=0.19 in /usr/local/lib/python3.10/dist-packages (from sympy->torch->easyocr) (1.3.0)\n",
            "Installing collected packages: pyclipper, ninja, python-bidi, easyocr\n",
            "Successfully installed easyocr-1.7.0 ninja-1.11.1 pyclipper-1.3.0.post4 python-bidi-0.4.2\n"
          ]
        }
      ],
      "source": [
        "# !pip install easyocr"
      ]
    },
    {
      "cell_type": "code",
      "execution_count": null,
      "metadata": {
        "id": "sxjLeRCAmwds"
      },
      "outputs": [],
      "source": [
        "import easyocr\n",
        "import cv2"
      ]
    },
    {
      "cell_type": "code",
      "execution_count": null,
      "metadata": {
        "id": "EpT6dQEInQcT"
      },
      "outputs": [],
      "source": [
        "lang_list=[\"te\",\"en\"]"
      ]
    },
    {
      "cell_type": "code",
      "execution_count": null,
      "metadata": {
        "id": "FD1UBqd1m1Z0"
      },
      "outputs": [],
      "source": [
        "reader = easyocr.Reader(lang_list)\n",
        "result = reader.readtext('licence.jpg')\n",
        "result"
      ]
    },
    {
      "cell_type": "code",
      "execution_count": null,
      "metadata": {
        "id": "ej6V0_KG6Cgg"
      },
      "outputs": [],
      "source": [
        "from datetime import datetime\n",
        "from datetime import date\n",
        "def difference(exp):\n",
        "    print(exp)\n",
        "    # dates in string format\n",
        "    str_d1 = exp\n",
        "    str_d2 = date.today().strftime(\"%d/%m/%Y\")  # Convert datetime.date to string\n",
        "    print(str_d1[0:2], str_d2[0:2])\n",
        "    print(str_d1[3:5], str_d2[3:5])\n",
        "    print(str_d1[-4:], str_d2[-4:])\n",
        "    print(str_d1, str_d2)\n",
        "    if int(str_d1[-4:]) - int(str_d2[-4:]) > 0:\n",
        "        delta = int(str_d1[-4:]) - int(str_d2[-4:])  # Note: changed to d1 - d2 to calculate days until expiry\n",
        "        return delta\n",
        "    if int(str_d1[-4:]) == int(str_d2[-4:]):\n",
        "        if int(str_d1[3:5]) >  int(str_d2[3:5]):\n",
        "            delta = int(str_d1[3:5]) - int(str_d2[3:5])  # Note: changed to d1 - d2 to calculate days until expiry\n",
        "            return delta\n",
        "    if int(str_d1[-4:]) == int(str_d2[-4:]):\n",
        "        if int(str_d1[3:5]) ==  int(str_d2[3:5]):\n",
        "            if int(str_d1[0:2]) >=  int(str_d2[0:2]):\n",
        "                delta = int(str_d1[-4:]) - int(str_d2[-4:])  # Note: changed to d1 - d2 to calculate days until expiry\n",
        "                return delta\n",
        "    return -1"
      ]
    },
    {
      "cell_type": "code",
      "source": [
        "import pandas as pd\n",
        "\n",
        "df = pd.read_csv('License_Data.csv')\n",
        "df"
      ],
      "metadata": {
        "id": "czY_ovQAQPPa"
      },
      "execution_count": null,
      "outputs": []
    },
    {
      "cell_type": "code",
      "source": [
        "# k = dates_sep()\n",
        "    # exp = valid(k)\n",
        "    # exp = str(exp)\n",
        "    # print(exp)\n",
        "    # out = difference(str(exp))\n",
        "    # print(out)"
      ],
      "metadata": {
        "id": "VpJpZlNN22H4"
      },
      "execution_count": null,
      "outputs": []
    },
    {
      "cell_type": "code",
      "execution_count": null,
      "metadata": {
        "id": "WW_qC_sjn6lU"
      },
      "outputs": [],
      "source": [
        "import re\n",
        "\n",
        "flag = 0\n",
        "temp = 0\n",
        "for coord in result:\n",
        "    k = str(coord[1]).lower()  # Convert to string\n",
        "    x = re.search('lic+', k)\n",
        "    y = re.search('driv', k)\n",
        "    if x:\n",
        "        flag = 1\n",
        "        break\n",
        "    if y:\n",
        "        flag = 1\n",
        "        break\n",
        "\n",
        "print(flag)\n",
        "\n",
        "if flag == 1:\n",
        "    column_name = 'LIC_NUM'\n",
        "    for coord in result:\n",
        "        string = str(coord[1])  # Convert to string\n",
        "        print(string)\n",
        "        if len(string) == 17 or len(string) == 16:\n",
        "            filtered_df = df[column_name][df[column_name].str.contains(string)]\n",
        "            values = filtered_df.item()  # Retrieve the single value as string\n",
        "            print(values)\n",
        "            if not filtered_df.empty:  # Check if DataFrame is not empty\n",
        "                search_idx = filtered_df.index\n",
        "                print('-----------------------')\n",
        "                y = (df['EXPIRY_DATE'][search_idx]).item()\n",
        "                print(y)\n",
        "                print('-----------------------')\n",
        "                valid = difference(y)\n",
        "                print(valid)\n",
        "                if valid >= 0:\n",
        "                    print(\"Valid Licence\")\n",
        "                    message = 'Valid Licence, Place the key to start your vehicle'\n",
        "                    temp = 1\n",
        "                    break\n",
        "\n",
        "if flag == 0 or temp == 0:\n",
        "    print(\"Please scan proper licence\")\n",
        "    message = \"Please scan proper licence\"\n"
      ]
    },
    {
      "cell_type": "code",
      "execution_count": null,
      "metadata": {
        "colab": {
          "base_uri": "https://localhost:8080/",
          "height": 76
        },
        "id": "9hSHXYDG8fvQ",
        "outputId": "6bebb604-1949-49c4-b217-cc52f1b1a017"
      },
      "outputs": [
        {
          "output_type": "execute_result",
          "data": {
            "text/plain": [
              "<IPython.lib.display.Audio object>"
            ],
            "text/html": [
              "\n",
              "                <audio  controls=\"controls\" autoplay=\"autoplay\">\n",
              "                    <source src=\"data:audio/x-wav;base64,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\" type=\"audio/x-wav\" />\n",
              "                    Your browser does not support the audio element.\n",
              "                </audio>\n",
              "              "
            ]
          },
          "metadata": {},
          "execution_count": 37
        }
      ],
      "source": [
        "from gtts import gTTS\n",
        "from IPython.display import Audio\n",
        "tts = gTTS(message)\n",
        "tts.save('1.wav')\n",
        "sound_file = '1.wav'\n",
        "Audio(sound_file, autoplay=True)"
      ]
    },
    {
      "cell_type": "markdown",
      "source": [
        "#Face Comparision"
      ],
      "metadata": {
        "id": "tZgsUH0TBokU"
      }
    },
    {
      "cell_type": "markdown",
      "source": [
        "Currently working on it."
      ],
      "metadata": {
        "id": "Xg5zgChzccH8"
      }
    },
    {
      "cell_type": "code",
      "source": [
        "!pip install dlib"
      ],
      "metadata": {
        "colab": {
          "base_uri": "https://localhost:8080/"
        },
        "id": "ic18CaS1Uhen",
        "outputId": "942d5966-651f-4249-9bf4-b430d3beebe7"
      },
      "execution_count": null,
      "outputs": [
        {
          "output_type": "stream",
          "name": "stdout",
          "text": [
            "Requirement already satisfied: dlib in /usr/local/lib/python3.10/dist-packages (19.24.2)\n"
          ]
        }
      ]
    },
    {
      "cell_type": "code",
      "source": [
        "!nvcc --version\n"
      ],
      "metadata": {
        "colab": {
          "base_uri": "https://localhost:8080/"
        },
        "id": "XI78XYX_eNeK",
        "outputId": "544bb974-ed49-4df6-d39e-a364324fa069"
      },
      "execution_count": null,
      "outputs": [
        {
          "output_type": "stream",
          "name": "stdout",
          "text": [
            "nvcc: NVIDIA (R) Cuda compiler driver\n",
            "Copyright (c) 2005-2022 NVIDIA Corporation\n",
            "Built on Wed_Sep_21_10:33:58_PDT_2022\n",
            "Cuda compilation tools, release 11.8, V11.8.89\n",
            "Build cuda_11.8.r11.8/compiler.31833905_0\n"
          ]
        }
      ]
    },
    {
      "cell_type": "code",
      "source": [
        "!pip install --upgrade dlib\n"
      ],
      "metadata": {
        "id": "V5KXyMkEeR99",
        "outputId": "0aa00d12-b477-4a84-dbf0-bd0e456882c5",
        "colab": {
          "base_uri": "https://localhost:8080/"
        }
      },
      "execution_count": null,
      "outputs": [
        {
          "output_type": "stream",
          "name": "stdout",
          "text": [
            "Requirement already satisfied: dlib in /usr/local/lib/python3.10/dist-packages (19.24.2)\n"
          ]
        }
      ]
    },
    {
      "cell_type": "code",
      "source": [
        "import cv2\n",
        "import dlib\n",
        "\n",
        "# Load the picture image\n",
        "picture_image = cv2.imread('me.jpg')  # Replace 'picture.jpg' with the actual path to the picture image\n",
        "\n",
        "# Create a face detector and load the pre-trained face recognition model\n",
        "detector = dlib.get_frontal_face_detector()\n",
        "face_recognizer = dlib.face_recognition_model_v1('/content/dlib_face_recognition_resnet_model_v1.dat')\n",
        "  # Path to the pre-trained face recognition model\n",
        "\n",
        "# Compute the face encodings for the picture image\n",
        "picture_face = detector(picture_image)[0]\n",
        "picture_face_encoding = face_recognizer.compute_face_descriptor(picture_image, picture_face)\n",
        "\n",
        "# Create a VideoCapture object for live streaming (e.g., webcam)\n",
        "video_capture = cv2.VideoCapture(0)  # Use 0 for the default webcam, or replace it with the appropriate index if you have multiple cameras\n",
        "\n",
        "# Read frames from the live stream until the comparison is made or user quits\n",
        "while True:\n",
        "    # Read frame from the live stream\n",
        "    ret, frame = video_capture.read()\n",
        "\n",
        "    # Convert the frame to grayscale for face detection\n",
        "    gray = cv2.cvtColor(frame, cv2.COLOR_BGR2GRAY)\n",
        "\n",
        "    # Detect faces in the frame\n",
        "    faces = detector(gray)\n",
        "\n",
        "    # Iterate through detected faces\n",
        "    for face in faces:\n",
        "        # Compute the face encodings for the current face in the frame\n",
        "        face_encoding = face_recognizer.compute_face_descriptor(frame, face)\n",
        "\n",
        "        # Compare the current face encoding with the encoding from the picture\n",
        "        match = dlib.distance(face_encoding, picture_face_encoding) < 0.6\n",
        "\n",
        "        # Determine if the faces belong to the same person\n",
        "        if match:\n",
        "            comparison_result = \"Same Person\"\n",
        "        else:\n",
        "            comparison_result = \"Different Person\"\n",
        "\n",
        "        # Draw a rectangle around the face and display the comparison result\n",
        "        (x, y, w, h) = (face.left(), face.top(), face.width(), face.height())\n",
        "        cv2.rectangle(frame, (x, y), (x + w, y + h), (0, 255, 0), 2)\n",
        "        cv2.putText(frame, comparison_result, (x, y - 10), cv2.FONT_HERSHEY_SIMPLEX, 0.9, (0, 255, 0), 2)\n",
        "\n",
        "    # Display the frame\n",
        "    cv2.imshow('Face Comparison', frame)\n",
        "\n",
        "    # Break the loop if 'q' is pressed\n",
        "    if cv2.waitKey(1) & 0xFF == ord('q'):\n",
        "        break\n",
        "\n",
        "# Release the VideoCapture object and close windows\n",
        "video_capture.release()\n",
        "cv2.destroyAllWindows()\n"
      ],
      "metadata": {
        "id": "MifrI5XCUVoa"
      },
      "execution_count": null,
      "outputs": []
    },
    {
      "cell_type": "code",
      "source": [],
      "metadata": {
        "id": "zYA-hn4gbSI4"
      },
      "execution_count": null,
      "outputs": []
    }
  ]
}